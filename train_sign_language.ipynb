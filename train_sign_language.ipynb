{
 "cells": [
  {
   "cell_type": "code",
   "execution_count": 1,
   "metadata": {},
   "outputs": [],
   "source": [
    "import numpy as np \n",
    "import pandas as pd \n",
    "import cv2 \n",
    "import os \n",
    "import glob\n",
    "import tqdm\n",
    "from random import shuffle\n",
    "import pickle\n",
    "from os.path import basename\n"
   ]
  },
  {
   "cell_type": "code",
   "execution_count": 2,
   "metadata": {},
   "outputs": [],
   "source": [
    "path=\"/home/geekysethi/Desktop/vrinda_project/Dataset\"\n",
    "\n",
    "path_dir=np.sort(glob.glob(path+'/*'))\n"
   ]
  },
  {
   "cell_type": "code",
   "execution_count": 3,
   "metadata": {},
   "outputs": [],
   "source": [
    "# print(path_dir)\n",
    "all_csv=[]\n",
    "for i in path_dir:\n",
    "\t\n",
    "\tall_csv.append(glob.glob(str(i)+'/*.csv'))\n",
    "\n",
    "# print(all_csv)\n"
   ]
  },
  {
   "cell_type": "code",
   "execution_count": 5,
   "metadata": {},
   "outputs": [],
   "source": [
    "train_images=[]\n",
    "labels=[]\n",
    "\n",
    "# demo_path=str(all_csv[0])[2:-2]\n",
    "# print(demo_path)\n",
    "\n",
    "# df= pd.read_csv(demo_path)       \n",
    "# print(df.head())\n",
    "# print(os.path.join(path_image,df.image[0]))\n",
    "# print(basename(os.path.join(path_image,df.image[0]))[0])\n"
   ]
  },
  {
   "cell_type": "code",
   "execution_count": 6,
   "metadata": {},
   "outputs": [],
   "source": [
    "for j in all_csv:\n",
    "    df=pd.read_csv(str(j)[2:-2])\n",
    "\n",
    "    for i in range(len(df)):\n",
    "\n",
    "#         print(i)\n",
    "        image_path=os.path.join(path,df.image[i])\n",
    "        img=cv2.imread(image_path,1)\n",
    "        img=img[df.top_left_y[i]:df.bottom_right_y[i],df.top_left_x[i]:df.bottom_right_x[i]]\n",
    "        label=basename(os.path.join(path,df.image[0]))[0]\n",
    "\n",
    "        train_images.append([img])\n",
    "        labels.append(label)\n",
    "        # cv2.imshow('frame',img)\n",
    "        # cv2.waitKey(0)\n",
    "        # cv2.destroyAllWindows()\n",
    "\n",
    "\n",
    "\n",
    "# for j in all_csv:\n",
    "# \tprint(str(j)[2:-2])\n",
    "# \tdf=pd.read_csv(str(j)[2:-2])\n",
    "# \tprint(df.head())\n"
   ]
  },
  {
   "cell_type": "code",
   "execution_count": 7,
   "metadata": {},
   "outputs": [
    {
     "name": "stdout",
     "output_type": "stream",
     "text": [
      "1680\n",
      "1680\n"
     ]
    }
   ],
   "source": [
    "print(len(train_images))\n",
    "print(len(labels))\n"
   ]
  },
  {
   "cell_type": "code",
   "execution_count": 10,
   "metadata": {},
   "outputs": [
    {
     "name": "stdout",
     "output_type": "stream",
     "text": [
      "(1680, 1)\n",
      "(1680,)\n"
     ]
    }
   ],
   "source": [
    "print(np.shape(train_images))\n",
    "print(np.shape(labels))"
   ]
  },
  {
   "cell_type": "code",
   "execution_count": 12,
   "metadata": {},
   "outputs": [],
   "source": [
    "# print(train_images[0])"
   ]
  },
  {
   "cell_type": "code",
   "execution_count": 13,
   "metadata": {},
   "outputs": [],
   "source": [
    "from sklearn import preprocessing\n",
    "le = preprocessing.LabelEncoder()"
   ]
  },
  {
   "cell_type": "code",
   "execution_count": null,
   "metadata": {},
   "outputs": [],
   "source": []
  }
 ],
 "metadata": {
  "kernelspec": {
   "display_name": "Python 3",
   "language": "python",
   "name": "python3"
  },
  "language_info": {
   "codemirror_mode": {
    "name": "ipython",
    "version": 3
   },
   "file_extension": ".py",
   "mimetype": "text/x-python",
   "name": "python",
   "nbconvert_exporter": "python",
   "pygments_lexer": "ipython3",
   "version": "3.5.2"
  }
 },
 "nbformat": 4,
 "nbformat_minor": 2
}
